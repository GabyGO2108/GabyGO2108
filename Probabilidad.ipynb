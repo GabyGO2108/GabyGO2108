{
  "nbformat": 4,
  "nbformat_minor": 0,
  "metadata": {
    "colab": {
      "name": "Probabilidad.ipynb",
      "provenance": [],
      "toc_visible": true,
      "include_colab_link": true
    },
    "kernelspec": {
      "name": "python3",
      "display_name": "Python 3"
    },
    "language_info": {
      "name": "python"
    }
  },
  "cells": [
    {
      "cell_type": "markdown",
      "metadata": {
        "id": "view-in-github",
        "colab_type": "text"
      },
      "source": [
        "<a href=\"https://colab.research.google.com/github/GabyGO2108/GabyGO2108/blob/main/Probabilidad.ipynb\" target=\"_parent\"><img src=\"https://colab.research.google.com/assets/colab-badge.svg\" alt=\"Open In Colab\"/></a>"
      ]
    },
    {
      "cell_type": "markdown",
      "metadata": {
        "id": "GHg_P52ZRLOS"
      },
      "source": [
        "# **Probabilidad**"
      ]
    },
    {
      "cell_type": "code",
      "metadata": {
        "id": "I403MGVCRY_p"
      },
      "source": [
        "import pandas as pd\n",
        "import numpy as np\n",
        "import enum, random"
      ],
      "execution_count": null,
      "outputs": []
    },
    {
      "cell_type": "markdown",
      "metadata": {
        "id": "0M7BGmMdumIt"
      },
      "source": [
        "# Ley de los números grandes"
      ]
    },
    {
      "cell_type": "markdown",
      "metadata": {
        "id": "_3tpO3lbwktd"
      },
      "source": [
        "La gráfica de el comportamiento de los lanzamientos de una moneda en relación con las veces que cae cara."
      ]
    },
    {
      "cell_type": "code",
      "metadata": {
        "colab": {
          "base_uri": "https://localhost:8080/",
          "height": 404
        },
        "id": "sQUKevtzRce6",
        "outputId": "107d397a-ba3e-478a-f01c-bd0b0b87a23d"
      },
      "source": [
        "%matplotlib inline\n",
        "from matplotlib import pyplot as plt\n",
        "#resultados de mis eventos\n",
        "espacio_muestral = []\n",
        "# lanzamientos = eventos\n",
        "for evento in range(1,10000):\n",
        "  evento = np.random.choice([0,1], evento)\n",
        "  caras = evento.mean()\n",
        "  #resultado\n",
        "  espacio_muestral.append(caras)\n",
        "\n",
        "#espacio_muestral\n",
        "\n",
        "df = pd.DataFrame({'lanzamientos': espacio_muestral})\n",
        "\n",
        "df.plot(title=\"Ley de los números grandes\", color=\"y\", figsize=(8,6))\n",
        "plt.axhline(0.5)\n",
        "plt.xlabel('Lanzamientos')\n",
        "plt.ylabel('Frecuencia de las caras')\n",
        "plt.show()"
      ],
      "execution_count": null,
      "outputs": [
        {
          "output_type": "display_data",
          "data": {
            "image/png": "[encoded data removed]",
            "text/plain": [
              "<Figure size 576x432 with 1 Axes>"
            ]
          },
          "metadata": {
            "tags": [],
            "needs_background": "light"
          }
        }
      ]
    },
    {
      "cell_type": "markdown",
      "metadata": {
        "id": "Ji2qpb0w0MjU"
      },
      "source": [
        "Calcular la probabilidad de que teniendo 2 hijos:\n",
        "\n",
        "Si ambos sean niñas siendo que el infante más grande es niña\n",
        "\n",
        "Si ambos sean niñas siendo que el infante al menos uno es niña"
      ]
    },
    {
      "cell_type": "code",
      "metadata": {
        "id": "m8dWnGniwhzB"
      },
      "source": [
        "class Infante(enum.Enum):\n",
        "  chico = 0\n",
        "  chica = 1\n",
        "\n",
        "def genero_random() -> Infante:\n",
        "  return random.choice([Infante.chico, Infante.chica])"
      ],
      "execution_count": null,
      "outputs": []
    },
    {
      "cell_type": "markdown",
      "metadata": {
        "id": "YHHcUBK61MNU"
      },
      "source": [
        ""
      ]
    },
    {
      "cell_type": "markdown",
      "metadata": {
        "id": "seFrKBxn1MQf"
      },
      "source": [
        "A = Ambos son niñas\n",
        "B = El mayor es niña\n",
        "C = Al menos uno de ellos es niña"
      ]
    },
    {
      "cell_type": "markdown",
      "metadata": {
        "id": "Juxt1N5R15Vd"
      },
      "source": [
        "P(A|B) = P(A,B)/P(B) = P(A) / P(B) = 1/2"
      ]
    },
    {
      "cell_type": "markdown",
      "metadata": {
        "id": "BrPczp766bD7"
      },
      "source": [
        "P(A|C) = P(A,C)/P(C) = P(A) / P(C) = 1/3"
      ]
    },
    {
      "cell_type": "code",
      "metadata": {
        "id": "ptCQ78A21G-k"
      },
      "source": [
        "ambos_infantes_chicas = 0\n",
        "mayor_infante_chica = 0\n",
        "al_menos_un_infante_chica = 0"
      ],
      "execution_count": null,
      "outputs": []
    },
    {
      "cell_type": "code",
      "metadata": {
        "id": "g9Lqeprb2e3B"
      },
      "source": [
        "for _ in range(100000):\n",
        "  menor = genero_random()\n",
        "  mayor = genero_random()\n",
        "  if mayor == Infante.chica:\n",
        "    mayor_infante_chica +=1\n",
        "  if mayor == Infante.chica and  menor == Infante.chica:\n",
        "    ambos_infantes_chicas +=1\n",
        "  if mayor == Infante.chica or menor == Infante.chica:\n",
        "    al_menos_un_infante_chica +=1"
      ],
      "execution_count": null,
      "outputs": []
    },
    {
      "cell_type": "code",
      "metadata": {
        "colab": {
          "base_uri": "https://localhost:8080/"
        },
        "id": "k_ZF6Dl25IlR",
        "outputId": "6a2937f8-1606-4c7e-f285-ff2deeefb9a5"
      },
      "source": [
        "print('P(A | B)', ambos_infantes_chicas / mayor_infante_chica)"
      ],
      "execution_count": null,
      "outputs": [
        {
          "output_type": "stream",
          "text": [
            "P(A | B) 0.49992008949976025\n"
          ],
          "name": "stdout"
        }
      ]
    },
    {
      "cell_type": "code",
      "metadata": {
        "colab": {
          "base_uri": "https://localhost:8080/"
        },
        "id": "dCvV47sb5O4n",
        "outputId": "bf0b7b1b-a173-4453-f371-693ebbb97a50"
      },
      "source": [
        "print('P(A | C)', ambos_infantes_chicas / al_menos_un_infante_chica)"
      ],
      "execution_count": null,
      "outputs": [
        {
          "output_type": "stream",
          "text": [
            "P(A | C) 0.3334665920417899\n"
          ],
          "name": "stdout"
        }
      ]
    },
    {
      "cell_type": "code",
      "metadata": {
        "colab": {
          "base_uri": "https://localhost:8080/"
        },
        "id": "mhGVi4kO8H9N",
        "outputId": "3ab1731d-2880-46fb-f08b-b683aa47ad47"
      },
      "source": [
        "ambos_infantes_chicas / 100000"
      ],
      "execution_count": null,
      "outputs": [
        {
          "output_type": "execute_result",
          "data": {
            "text/plain": [
              "0.25024"
            ]
          },
          "metadata": {
            "tags": []
          },
          "execution_count": 25
        }
      ]
    },
    {
      "cell_type": "code",
      "metadata": {
        "colab": {
          "base_uri": "https://localhost:8080/"
        },
        "id": "t0Bm45-Z8IgV",
        "outputId": "e1b3e5e0-ab33-4178-a13c-51f33e2c0be0"
      },
      "source": [
        "mayor_infante_chica / 100000"
      ],
      "execution_count": null,
      "outputs": [
        {
          "output_type": "execute_result",
          "data": {
            "text/plain": [
              "0.50056"
            ]
          },
          "metadata": {
            "tags": []
          },
          "execution_count": 26
        }
      ]
    },
    {
      "cell_type": "code",
      "metadata": {
        "id": "rsCa_OOK8T45",
        "colab": {
          "base_uri": "https://localhost:8080/"
        },
        "outputId": "0710edfa-5360-4e31-924c-ef59a35ac42f"
      },
      "source": [
        "al_menos_un_infante_chica / 100000"
      ],
      "execution_count": null,
      "outputs": [
        {
          "output_type": "execute_result",
          "data": {
            "text/plain": [
              "0.75042"
            ]
          },
          "metadata": {
            "tags": []
          },
          "execution_count": 27
        }
      ]
    },
    {
      "cell_type": "code",
      "metadata": {
        "id": "PS4Sbfyy8Vlr"
      },
      "source": [
        ""
      ],
      "execution_count": null,
      "outputs": []
    }
  ]
}